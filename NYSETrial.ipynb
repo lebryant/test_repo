{
  "nbformat": 4,
  "nbformat_minor": 0,
  "metadata": {
    "colab": {
      "name": "Untitled1.ipynb",
      "version": "0.3.2",
      "provenance": [],
      "include_colab_link": true
    },
    "kernelspec": {
      "name": "python3",
      "display_name": "Python 3"
    }
  },
  "cells": [
    {
      "cell_type": "markdown",
      "metadata": {
        "id": "view-in-github",
        "colab_type": "text"
      },
      "source": [
        "<a href=\"https://colab.research.google.com/github/lebryant/test_repo/blob/master/NYSETrial.ipynb\" target=\"_parent\"><img src=\"https://colab.research.google.com/assets/colab-badge.svg\" alt=\"Open In Colab\"/></a>"
      ]
    },
    {
      "metadata": {
        "id": "rpzQjamvRKXL",
        "colab_type": "code",
        "colab": {},
        "outputId": "504ce0c5-9f54-4284-fa4c-32aa36177e75"
      },
      "cell_type": "code",
      "source": [
        "import os\n",
        "import pandas as pd\n",
        "import statsmodels.api as sm\n",
        "import statsmodels.tsa.filters.bk_filter\n",
        "import matplotlib.pyplot as plt\n",
        "from statsmodels.tsa.holtwinters import ExponentialSmoothing, SimpleExpSmoothing, Holt\n"
      ],
      "execution_count": 0,
      "outputs": []
    },
    {
      "metadata": {
        "colab_type": "code",
        "id": "O4ANrsN7yWJm",
        "colab": {}
      },
      "cell_type": "code",
      "source": [
        ""
      ],
      "execution_count": 0,
      "outputs": []
    },
    {
      "metadata": {
        "id": "9Vi2A819Sr5g",
        "colab_type": "code",
        "colab": {}
      },
      "cell_type": "code",
      "source": [
        "ts_data = pd.read_csv(\"prices.csv\")\n",
        "ts_data.head()\n",
        "\n",
        "ts_data['date'] = pd.to_datetime(ts_data['date'])\n",
        "ts_data = ts_data.set_index('date')\n",
        "ts_data.index\n",
        "\n"
      ],
      "execution_count": 0,
      "outputs": []
    },
    {
      "metadata": {
        "id": "WKatqG-VgkTz",
        "colab_type": "code",
        "colab": {}
      },
      "cell_type": "code",
      "source": [
        ""
      ],
      "execution_count": 0,
      "outputs": []
    },
    {
      "metadata": {
        "id": "uGztdmFzTxGx",
        "colab_type": "code",
        "colab": {}
      },
      "cell_type": "code",
      "source": [
        "y = ts_data['close']\n",
        "y.plot()\n",
        "plt.show()"
      ],
      "execution_count": 0,
      "outputs": []
    },
    {
      "metadata": {
        "id": "5nWltsuoVIji",
        "colab_type": "code",
        "colab": {}
      },
      "cell_type": "code",
      "source": [
        "from pylab import rcParams\n",
        "rcParams['figure.figsize'] = 18, 8\n",
        "decomposition = sm.tsa.filters.bkfilter(y, low = 6*90, high = 32*90)\n",
        "fig = decomposition.plot()\n",
        "plt.show()"
      ],
      "execution_count": 0,
      "outputs": []
    },
    {
      "metadata": {
        "id": "zBZNqbVDo4wM",
        "colab_type": "code",
        "colab": {}
      },
      "cell_type": "code",
      "source": [
        "ts_data.head()"
      ],
      "execution_count": 0,
      "outputs": []
    },
    {
      "metadata": {
        "id": "n5d2HJr5gp2I",
        "colab_type": "code",
        "colab": {}
      },
      "cell_type": "code",
      "source": [
        "funda_data = pd.read_csv(\"fundamentals.csv\")\n",
        "funda_data.head()\n",
        "price_data = pd.read_csv(\"prices.csv\")\n",
        "price_data.head()\n",
        "model_data = pd.DataFrame(funda_data.set_index('Ticker Symbol').join(price_data.set_index('symbol')))\n",
        "model_data.reset_index(level=0, inplace=True)\n",
        "model_data.reset_index(level=0, inplace=True)"
      ],
      "execution_count": 0,
      "outputs": []
    },
    {
      "metadata": {
        "colab_type": "code",
        "id": "AwcDTdyrovVv",
        "colab": {}
      },
      "cell_type": "code",
      "source": [
        "aal_data = model_data[model_data['index'] == 'AAL']\n",
        "aal_close = pd.Series(model_data[model_data['index'] == 'AAL']['close']).shift(1)\n",
        "aal_data['prev_close'] = aal_close\n",
        "aal_data.drop(['level_0','index','Unnamed: 0','Period Ending','volume'], axis = 1, inplace = True)\n",
        "aal_data.head()\n",
        "aal_data_2 = model_data[model_data['index'] == 'AAL'].shift(1).drop('close', axis=1)\n",
        "aal_data_2['close'] = model_data[model_data['index'] == 'AAL']['close']\n",
        "aal_data_2['prev_close'] = model_data[model_data['index'] == 'AAL']['close'].shift(1)\n",
        "aal_data_2.head()\n"
      ],
      "execution_count": 0,
      "outputs": []
    },
    {
      "metadata": {
        "id": "OuFZ0nNONMJF",
        "colab_type": "code",
        "colab": {}
      },
      "cell_type": "code",
      "source": [
        "from sklearn.ensemble import GradientBoostingRegressor\n",
        "from sklearn.model_selection import train_test_split\n",
        "import sklearn.metrics \n",
        "\n",
        "aal_data_2.dropna(inplace=True)\n",
        "X = aal_data_2.drop(['close','date','open','low','high','Period Ending','level_0','index','Unnamed: 0'], axis = 1)\n",
        "Y = aal_data_2['close']\n",
        "\n",
        "X.head()\n",
        "\n",
        "X_train, X_test, Y_train, Y_test = train_test_split(X, Y, test_size=0.2, random_state=23)\n",
        "\n",
        "test_model = GradientBoostingRegressor(n_estimators=100, learning_rate=0.1, max_depth=1, random_state=0, loss='ls').fit(X_train, Y_train)\n",
        "sklearn.metrics.r2_score(Y_test, test_model.predict(X_test)) \n",
        "\n",
        "Y_pred = pd.DataFrame(test_model.predict(X_test))\n",
        "\n",
        "pred_both = Y_pred.join(Y_test).dropna()\n",
        "pred_both.columns = ['pred','act']\n",
        "pred_both['MA'] = pred_both.pred.rolling(window=10).mean()\n",
        "\n",
        "\n",
        "#pred_both.act.plot()\n",
        "#pred_both.MA.plot()\n",
        "\n",
        "#plt.show()\n",
        "\n",
        "statsmodels.tsa.holtwinters.SimpleExpSmoothing(Y)"
      ],
      "execution_count": 0,
      "outputs": []
    }
  ]
}